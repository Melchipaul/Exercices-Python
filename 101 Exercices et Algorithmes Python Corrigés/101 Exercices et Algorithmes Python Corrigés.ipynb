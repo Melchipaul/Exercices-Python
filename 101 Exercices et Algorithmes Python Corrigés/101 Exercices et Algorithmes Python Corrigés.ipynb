{
 "cells": [
  {
   "cell_type": "markdown",
   "metadata": {},
   "source": [
    "#### 001 - Déclarer des variables"
   ]
  },
  {
   "cell_type": "code",
   "execution_count": null,
   "metadata": {},
   "outputs": [],
   "source": [
    "prenom = \"Pierre\"\n",
    "age = 20\n",
    "majeur = True\n",
    "compte_en_banque = 20135.384\n",
    "amis = [\"Marie\", \"Julien\", \"Adrien\"]\n",
    "parents = (\"Marc\", \"Caroline\")\n",
    "\n",
    "print(prenom)\n",
    "print(age)\n",
    "print(majeur)\n",
    "print(compte_en_banque)\n",
    "print(amis)\n",
    "print(parents)"
   ]
  },
  {
   "cell_type": "markdown",
   "metadata": {},
   "source": [
    "#### 002 - Erreur déclaration variable"
   ]
  },
  {
   "cell_type": "code",
   "execution_count": null,
   "metadata": {},
   "outputs": [],
   "source": [
    "## site_web = 'Udemy\"\n",
    "site_web = \"Udemy\"\n",
    "print(site_web)"
   ]
  },
  {
   "cell_type": "markdown",
   "metadata": {},
   "source": [
    "#### 003 - Convertir une variable d'un type à un autre"
   ]
  },
  {
   "cell_type": "code",
   "execution_count": null,
   "metadata": {},
   "outputs": [],
   "source": [
    "nombre = 15\n",
    "print(\"Le nombre est \" + str(nombre))"
   ]
  },
  {
   "cell_type": "markdown",
   "metadata": {},
   "source": [
    "#### 004 - Trouver la valeur d'une variable"
   ]
  },
  {
   "cell_type": "code",
   "execution_count": null,
   "metadata": {},
   "outputs": [],
   "source": [
    "a = 3\n",
    "b = 6\n",
    "a = b\n",
    "b = 7\n",
    "\n",
    "print(6)"
   ]
  },
  {
   "cell_type": "markdown",
   "metadata": {},
   "source": [
    "#### 005 - Ajouter un séparateur dans la fonction print"
   ]
  },
  {
   "cell_type": "code",
   "execution_count": null,
   "metadata": {},
   "outputs": [],
   "source": [
    "a = 2\n",
    "b = 6\n",
    "c = 3\n",
    "\n",
    "print(str(a), str(b), str(c), sep=\" + \")"
   ]
  },
  {
   "cell_type": "markdown",
   "metadata": {},
   "source": [
    "#### 006 - Erreur dans la déclaration d'une variable"
   ]
  },
  {
   "cell_type": "code",
   "execution_count": null,
   "metadata": {},
   "outputs": [],
   "source": [
    "list1 = range(3)\n",
    "list2 = range(5)\n",
    "\n",
    "print(list(list2))"
   ]
  },
  {
   "cell_type": "markdown",
   "metadata": {},
   "source": [
    "#### 007 - Vérifier si une variable est d'un certain type"
   ]
  },
  {
   "cell_type": "code",
   "execution_count": null,
   "metadata": {},
   "outputs": [],
   "source": [
    "prenom = \"Pierre\"\n",
    "\n",
    "# INSÉRER VOTRE CONDITION ICI.\n",
    "# Votre condition doit vérifier si la variable prenom est bien une chaîne de caractère. Ici c'est le cas,\n",
    "# votre condition doit donc être vraie et printer la phrase \"La variable est une chaîne de caractères\".\n",
    "if isinstance(prenom, str):\n",
    "    print(\"La variable est une chaîne de caractères\")\n",
    "\n",
    "prenom = 0\n",
    "\n",
    "# INSÉRER VOTRE CONDITION DE NOUVEAU\n",
    "# Cette fois-ci, la variable n'est pas égale à une chaîne de caractère. Votre condition doit donc être fausse et \n",
    "# la phrase ne doit pas s'afficher.\n",
    "if isinstance(prenom, str):\n",
    "    print(\"La variable est une chaîne de caractères\")"
   ]
  },
  {
   "cell_type": "markdown",
   "metadata": {},
   "source": [
    "#### 008 - Remplacer un mot par un autre"
   ]
  },
  {
   "cell_type": "code",
   "execution_count": null,
   "metadata": {},
   "outputs": [],
   "source": [
    "phrase = \"Bonjour tout le monde.\"\n",
    "nouvelle_phrase = phrase.replace(\"Bonjour\", \"Bonsoir\")\n",
    "\n",
    "print(nouvelle_phrase)"
   ]
  }
 ],
 "metadata": {
  "kernelspec": {
   "display_name": "Python 3",
   "language": "python",
   "name": "python3"
  },
  "language_info": {
   "codemirror_mode": {
    "name": "ipython",
    "version": 3
   },
   "file_extension": ".py",
   "mimetype": "text/x-python",
   "name": "python",
   "nbconvert_exporter": "python",
   "pygments_lexer": "ipython3",
   "version": "3.11.3"
  }
 },
 "nbformat": 4,
 "nbformat_minor": 2
}
