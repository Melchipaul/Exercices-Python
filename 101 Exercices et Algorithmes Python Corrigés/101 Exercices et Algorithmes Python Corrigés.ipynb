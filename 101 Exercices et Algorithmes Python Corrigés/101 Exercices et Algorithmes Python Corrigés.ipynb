{
 "cells": [
  {
   "cell_type": "markdown",
   "metadata": {},
   "source": [
    "#### 001 - Déclarer des variables"
   ]
  },
  {
   "cell_type": "code",
   "execution_count": 1,
   "metadata": {},
   "outputs": [
    {
     "name": "stdout",
     "output_type": "stream",
     "text": [
      "Pierre\n",
      "20\n",
      "True\n",
      "20135.384\n",
      "['Marie', 'Julien', 'Adrien']\n",
      "('Marc', 'Caroline')\n"
     ]
    }
   ],
   "source": [
    "prenom = \"Pierre\"\n",
    "age = 20\n",
    "majeur = True\n",
    "compte_en_banque = 20135.384\n",
    "amis = [\"Marie\", \"Julien\", \"Adrien\"]\n",
    "parents = (\"Marc\", \"Caroline\")\n",
    "\n",
    "print(prenom)\n",
    "print(age)\n",
    "print(majeur)\n",
    "print(compte_en_banque)\n",
    "print(amis)\n",
    "print(parents)"
   ]
  },
  {
   "cell_type": "markdown",
   "metadata": {},
   "source": [
    "#### 002 - Erreur déclaration variable"
   ]
  },
  {
   "cell_type": "code",
   "execution_count": null,
   "metadata": {},
   "outputs": [],
   "source": [
    "## site_web = 'Udemy\"\n",
    "site_web = \"Udemy\"\n",
    "print(site_web)"
   ]
  },
  {
   "cell_type": "markdown",
   "metadata": {},
   "source": [
    "#### 003 - Convertir une variable d'un type à un autre"
   ]
  },
  {
   "cell_type": "code",
   "execution_count": 2,
   "metadata": {},
   "outputs": [
    {
     "name": "stdout",
     "output_type": "stream",
     "text": [
      "Le nombre est 15\n"
     ]
    }
   ],
   "source": [
    "nombre = 15\n",
    "print(\"Le nombre est \" + str(nombre))"
   ]
  },
  {
   "cell_type": "markdown",
   "metadata": {},
   "source": [
    "#### 004 - Trouver la valeur d'une variable"
   ]
  },
  {
   "cell_type": "code",
   "execution_count": null,
   "metadata": {},
   "outputs": [],
   "source": [
    "a = 3\n",
    "b = 6\n",
    "a = b\n",
    "b = 7\n",
    "\n",
    "print(6)"
   ]
  },
  {
   "cell_type": "markdown",
   "metadata": {},
   "source": [
    "#### 005 - Ajouter un séparateur dans la fonction print"
   ]
  },
  {
   "cell_type": "code",
   "execution_count": null,
   "metadata": {},
   "outputs": [],
   "source": [
    "a = 2\n",
    "b = 6\n",
    "c = 3\n",
    "\n",
    "print(str(a), str(b), str(c), sep=\" + \")"
   ]
  },
  {
   "cell_type": "markdown",
   "metadata": {},
   "source": [
    "#### 006 - Erreur dans la déclaration d'une variable"
   ]
  },
  {
   "cell_type": "code",
   "execution_count": null,
   "metadata": {},
   "outputs": [],
   "source": [
    "list1 = range(3)\n",
    "list2 = range(5)\n",
    "\n",
    "print(list(list2))"
   ]
  },
  {
   "cell_type": "markdown",
   "metadata": {},
   "source": [
    "#### 007 - Vérifier si une variable est d'un certain type"
   ]
  },
  {
   "cell_type": "code",
   "execution_count": null,
   "metadata": {},
   "outputs": [],
   "source": [
    "prenom = \"Pierre\"\n",
    "\n",
    "# INSÉRER VOTRE CONDITION ICI.\n",
    "# Votre condition doit vérifier si la variable prenom est bien une chaîne de caractère. Ici c'est le cas,\n",
    "# votre condition doit donc être vraie et printer la phrase \"La variable est une chaîne de caractères\".\n",
    "if isinstance(prenom, str):\n",
    "    print(\"La variable est une chaîne de caractères\")\n",
    "\n",
    "prenom = 0\n",
    "\n",
    "# INSÉRER VOTRE CONDITION DE NOUVEAU\n",
    "# Cette fois-ci, la variable n'est pas égale à une chaîne de caractère. Votre condition doit donc être fausse et \n",
    "# la phrase ne doit pas s'afficher.\n",
    "if isinstance(prenom, str):\n",
    "    print(\"La variable est une chaîne de caractères\")"
   ]
  },
  {
   "cell_type": "markdown",
   "metadata": {},
   "source": [
    "#### 008 - Remplacer un mot par un autre"
   ]
  },
  {
   "cell_type": "code",
   "execution_count": 1,
   "metadata": {},
   "outputs": [
    {
     "name": "stdout",
     "output_type": "stream",
     "text": [
      "Bonsoir tout le monde.\n"
     ]
    }
   ],
   "source": [
    "phrase = \"Bonjour tout le monde.\"\n",
    "nouvelle_phrase = phrase.replace(\"Bonjour\", \"Bonsoir\")\n",
    "\n",
    "print(nouvelle_phrase)"
   ]
  },
  {
   "cell_type": "markdown",
   "metadata": {},
   "source": [
    "#### 009 - Ordonner une chaîne de caractère"
   ]
  },
  {
   "cell_type": "code",
   "execution_count": 7,
   "metadata": {},
   "outputs": [
    {
     "name": "stdout",
     "output_type": "stream",
     "text": [
      "Anne, Julien, Lucien, Marie, Pierre\n"
     ]
    }
   ],
   "source": [
    "chaine = \"Pierre, Julien, Anne, Marie, Lucien\"\n",
    "ma_liste = chaine.split(\", \")\n",
    "ma_liste_triee = sorted(ma_liste)\n",
    "ma_chaine = \", \".join(ma_liste_triee)\n",
    "print(ma_chaine)"
   ]
  },
  {
   "cell_type": "markdown",
   "metadata": {},
   "source": [
    "#### 010 - Calculer le volume d'une sphère"
   ]
  },
  {
   "cell_type": "code",
   "execution_count": 10,
   "metadata": {},
   "outputs": [
    {
     "name": "stdout",
     "output_type": "stream",
     "text": [
      "4188.790204786391\n"
     ]
    }
   ],
   "source": [
    "from math import pi\n",
    "\n",
    "\n",
    "rayon = 10.0\n",
    "volume = rayon ** 3 * 4 / 3 * pi\n",
    "print(volume)"
   ]
  },
  {
   "cell_type": "markdown",
   "metadata": {},
   "source": [
    "#### 011 - Tester si un nombre est plus grand que 10"
   ]
  },
  {
   "cell_type": "code",
   "execution_count": 11,
   "metadata": {},
   "outputs": [
    {
     "name": "stdout",
     "output_type": "stream",
     "text": [
      "a est plus grand que 10\n"
     ]
    }
   ],
   "source": [
    "a = 12\n",
    "\n",
    "if isinstance(a, int):\n",
    "    if a > 10:\n",
    "        print(\"a est plus grand que 10\")\n",
    "    else:\n",
    "        print(\"a est plus petit ou égale à 10\")\n",
    "else:\n",
    "    print(\"La variable n'est pas un entier\")"
   ]
  },
  {
   "cell_type": "markdown",
   "metadata": {},
   "source": [
    "#### 012 - Créer une liste de nombres de 5 à 15"
   ]
  },
  {
   "cell_type": "code",
   "execution_count": 16,
   "metadata": {},
   "outputs": [
    {
     "name": "stdout",
     "output_type": "stream",
     "text": [
      "[5, 6, 7, 8, 9, 10, 11, 12, 13, 14, 15]\n"
     ]
    }
   ],
   "source": [
    "ma_liste = [x  for x in range(5,16)]\n",
    "print(ma_liste)"
   ]
  },
  {
   "cell_type": "markdown",
   "metadata": {},
   "source": [
    "#### 013 - Créer une liste de nombres pairs de 1 à 100"
   ]
  },
  {
   "cell_type": "code",
   "execution_count": 17,
   "metadata": {},
   "outputs": [
    {
     "name": "stdout",
     "output_type": "stream",
     "text": [
      "[2, 4, 6, 8, 10, 12, 14, 16, 18, 20, 22, 24, 26, 28, 30, 32, 34, 36, 38, 40, 42, 44, 46, 48, 50, 52, 54, 56, 58, 60, 62, 64, 66, 68, 70, 72, 74, 76, 78, 80, 82, 84, 86, 88, 90, 92, 94, 96, 98, 100]\n"
     ]
    }
   ],
   "source": [
    "list_pair = [x  for x in range(1, 101) if x % 2 == 0]\n",
    "print(list_pair)"
   ]
  },
  {
   "cell_type": "markdown",
   "metadata": {},
   "source": [
    "#### 014 - Créer un générateur de lancer de dés"
   ]
  },
  {
   "cell_type": "code",
   "execution_count": 21,
   "metadata": {},
   "outputs": [
    {
     "name": "stdout",
     "output_type": "stream",
     "text": [
      "2\n",
      "4\n",
      "1\n",
      "5\n",
      "3\n",
      "2\n"
     ]
    }
   ],
   "source": [
    "from random import randint\n",
    "\n",
    "\n",
    "for alea in range(6):\n",
    "    print(randint(1, 6))"
   ]
  },
  {
   "cell_type": "markdown",
   "metadata": {},
   "source": [
    "#### 015 - Compter le nombre d'occurrences d'une lettre dans une phrase"
   ]
  },
  {
   "cell_type": "code",
   "execution_count": 23,
   "metadata": {},
   "outputs": [
    {
     "name": "stdout",
     "output_type": "stream",
     "text": [
      "4\n"
     ]
    }
   ],
   "source": [
    "lettre_a_chercher = \"o\"\n",
    "phrase = \"Bonjour tout le monde\"\n",
    "occurences = phrase.lower().count(lettre_a_chercher)\n",
    "print(occurences)"
   ]
  },
  {
   "cell_type": "markdown",
   "metadata": {},
   "source": [
    "#### 016 - Récupérer un élément dans une liste"
   ]
  },
  {
   "cell_type": "code",
   "execution_count": 24,
   "metadata": {},
   "outputs": [
    {
     "name": "stdout",
     "output_type": "stream",
     "text": [
      "Pierre\n"
     ]
    }
   ],
   "source": [
    "ma_liste = [\"Pierre\", \"Paul\", \"Marie\"]\n",
    "print(ma_liste[0])"
   ]
  },
  {
   "cell_type": "markdown",
   "metadata": {},
   "source": [
    "#### 017 - Récupérer des éléments dans une liste"
   ]
  },
  {
   "cell_type": "code",
   "execution_count": 26,
   "metadata": {},
   "outputs": [
    {
     "name": "stdout",
     "output_type": "stream",
     "text": [
      "Pierre\n",
      "Marie\n",
      "['Pierre', 'Paul']\n",
      "['Paul', 'Marie']\n"
     ]
    }
   ],
   "source": [
    "ma_liste = [\"Pierre\", \"Paul\", \"Marie\"]\n",
    "print(ma_liste[0])\n",
    "print(ma_liste[-1])\n",
    "print(ma_liste[:2])\n",
    "print(ma_liste[-2:])"
   ]
  },
  {
   "cell_type": "markdown",
   "metadata": {},
   "source": [
    "#### 018 - Récupérer un élément sur deux dans une liste"
   ]
  },
  {
   "cell_type": "code",
   "execution_count": 27,
   "metadata": {},
   "outputs": [
    {
     "name": "stdout",
     "output_type": "stream",
     "text": [
      "[1, 3, 5, 7, 9]\n"
     ]
    }
   ],
   "source": [
    "ma_liste = [1, 2, 3, 4, 5, 6, 7, 8, 9, 10]\n",
    "print(ma_liste[::2])"
   ]
  },
  {
   "cell_type": "markdown",
   "metadata": {},
   "source": [
    "#### 019 - Ajouter plusieurs éléments à une liste"
   ]
  },
  {
   "cell_type": "code",
   "execution_count": 28,
   "metadata": {},
   "outputs": [
    {
     "name": "stdout",
     "output_type": "stream",
     "text": [
      "[1, 2, 3, 4, 5, 6]\n"
     ]
    }
   ],
   "source": [
    "ma_liste = [1, 2, 3]\n",
    "ma_liste.extend([4, 5, 6])\n",
    "print(ma_liste)"
   ]
  },
  {
   "cell_type": "markdown",
   "metadata": {},
   "source": [
    "#### 020 - Récupérer les éléments communs à deux listes"
   ]
  },
  {
   "cell_type": "code",
   "execution_count": 32,
   "metadata": {},
   "outputs": [
    {
     "name": "stdout",
     "output_type": "stream",
     "text": [
      "[10, 5, 7]\n",
      "[5, 7, 10]\n"
     ]
    }
   ],
   "source": [
    "liste_01 = [1, 5, 6, 7, 9, 10, 11]\n",
    "liste_02 = [2, 3, 5, 7, 8, 10, 12]\n",
    "print(list(set(liste_01).intersection(set(liste_02))))\n",
    "\n",
    "intersection = []\n",
    "\n",
    "for x in liste_01:\n",
    "    if x in liste_02:\n",
    "        intersection.append(x)\n",
    "\n",
    "print(intersection)"
   ]
  },
  {
   "cell_type": "markdown",
   "metadata": {},
   "source": [
    "#### 021 - Trier une liste de tuples"
   ]
  },
  {
   "cell_type": "code",
   "execution_count": 33,
   "metadata": {},
   "outputs": [
    {
     "name": "stdout",
     "output_type": "stream",
     "text": [
      "[('Wall-E', 3), ('Blade Runner', 4), ('Harry Potter', 5)]\n"
     ]
    }
   ],
   "source": [
    "liste = [(\"Harry Potter\", 5), (\"Wall-E\", 3), (\"Blade Runner\", 4)]\n",
    "\n",
    "# Trier la liste ici\n",
    "liste.sort(key=lambda x: x[1])\n",
    "\n",
    "print(liste)"
   ]
  },
  {
   "cell_type": "markdown",
   "metadata": {},
   "source": [
    "#### 022 - Récupérer une valeur dans un dictionnaire"
   ]
  },
  {
   "cell_type": "code",
   "execution_count": 34,
   "metadata": {},
   "outputs": [
    {
     "name": "stdout",
     "output_type": "stream",
     "text": [
      "Pierre\n",
      "Pierre\n"
     ]
    }
   ],
   "source": [
    "employes = {\"01\": {\"identite\": {\"prenom\": \"Pierre\", \"nom\": \"Dupont\"}}}\n",
    "print(employes[\"01\"][\"identite\"][\"prenom\"])\n",
    "print(employes.get(\"01\").get(\"identite\").get(\"prenom\"))"
   ]
  },
  {
   "cell_type": "markdown",
   "metadata": {},
   "source": [
    "#### 023 - Additionner les valeurs d'un dictionnaire"
   ]
  },
  {
   "cell_type": "code",
   "execution_count": null,
   "metadata": {},
   "outputs": [
    {
     "name": "stdout",
     "output_type": "stream",
     "text": [
      "8700\n"
     ]
    }
   ],
   "source": [
    "employes = {\"Pierre\": 2500, \"Marie\": 5000, \"Julien\": 1200}\n",
    "somme = 0\n",
    "\n",
    "for x in employes.values():\n",
    "    somme += x\n",
    "\n",
    "print(somme)"
   ]
  },
  {
   "cell_type": "markdown",
   "metadata": {},
   "source": [
    "#### 047 - Additionner les chiffres d'un nombre\n"
   ]
  },
  {
   "cell_type": "code",
   "execution_count": 4,
   "metadata": {},
   "outputs": [
    {
     "name": "stdout",
     "output_type": "stream",
     "text": [
      "22\n",
      "22\n"
     ]
    }
   ],
   "source": [
    "nombre = 209812\n",
    "somme = 0\n",
    "for x in str(nombre):\n",
    "    somme += int(x)\n",
    "\n",
    "print(somme)\n",
    "\n",
    "### Comprehension\n",
    "print(sum([int(x) for x in str(nombre)]))"
   ]
  },
  {
   "cell_type": "markdown",
   "metadata": {},
   "source": [
    "#### 048 - Remplacer un élément dans une liste"
   ]
  },
  {
   "cell_type": "code",
   "execution_count": 6,
   "metadata": {},
   "outputs": [
    {
     "name": "stdout",
     "output_type": "stream",
     "text": [
      "['Pierre', 'Marie', 'Julien', 'Adrien', 'Julien']\n"
     ]
    }
   ],
   "source": [
    "liste = [\"Pierre\", \"Marie\", \"Julie\", \"Adrien\", \"Julie\"]\n",
    "nom_a_chercher = \"Julie\"\n",
    "nouveau_nom = \"Julien\"\n",
    "\n",
    "liste = [x if x != nom_a_chercher else nouveau_nom for x in liste]\n",
    "print(liste)"
   ]
  },
  {
   "cell_type": "code",
   "execution_count": 7,
   "metadata": {},
   "outputs": [
    {
     "name": "stdout",
     "output_type": "stream",
     "text": [
      "['Pierre', 'Marie', 'Julien', 'Adrien', 'Julien']\n"
     ]
    }
   ],
   "source": [
    "liste = [\"Pierre\", \"Marie\", \"Julie\", \"Adrien\", \"Julie\"]\n",
    " \n",
    "nom_a_chercher = \"Julie\"\n",
    "nouveau_nom = \"Julien\"\n",
    " \n",
    "liste = [x.replace(nom_a_chercher, nouveau_nom) for x in liste]\n",
    "print(liste)"
   ]
  },
  {
   "cell_type": "markdown",
   "metadata": {},
   "source": [
    "#### 049 - Enlever les doublons d'une liste"
   ]
  },
  {
   "cell_type": "code",
   "execution_count": 16,
   "metadata": {},
   "outputs": [
    {
     "name": "stdout",
     "output_type": "stream",
     "text": [
      "[1, 2, 3, 4, 5, 6, 7, 8, 9, 10]\n"
     ]
    }
   ],
   "source": [
    "nombres = [1, 2, 2, 3, 4, 5, 5, 5, 6, 7, 7, 8, 9, 10]\n",
    "nombre_sans_double = list(set(nombres))\n",
    "print(nombre_sans_double)"
   ]
  },
  {
   "cell_type": "code",
   "execution_count": 18,
   "metadata": {},
   "outputs": [
    {
     "name": "stdout",
     "output_type": "stream",
     "text": [
      "[1, 2, 3, 4, 5, 6, 7, 8, 9, 10]\n"
     ]
    }
   ],
   "source": [
    "liste_sans_doublons = []\n",
    "for x in nombres:\n",
    "    if x not in liste_sans_doublons:\n",
    "        liste_sans_doublons.append(x)\n",
    "print(liste_sans_doublons)"
   ]
  },
  {
   "cell_type": "markdown",
   "metadata": {},
   "source": [
    "####  050 - Printer une phrase tant que l'utilisateur le demande"
   ]
  },
  {
   "cell_type": "code",
   "execution_count": 19,
   "metadata": {},
   "outputs": [
    {
     "name": "stdout",
     "output_type": "stream",
     "text": [
      "1\n",
      "2\n",
      "3\n",
      "4\n",
      "5\n",
      "6\n",
      "7\n"
     ]
    }
   ],
   "source": [
    "compteur = 0\n",
    "reponse = \"o\"\n",
    "while reponse == \"o\":\n",
    "    compteur += 1\n",
    "    reponse = input(\"Voulez-vous continuer ? (o/n) \")\n",
    "    print(compteur)\n"
   ]
  },
  {
   "cell_type": "markdown",
   "metadata": {},
   "source": [
    "#### 051 - Ajouter des éléments à un dictionnaire"
   ]
  },
  {
   "cell_type": "code",
   "execution_count": 22,
   "metadata": {},
   "outputs": [
    {
     "name": "stdout",
     "output_type": "stream",
     "text": [
      "{'id-01': 'Pierre', 'id-02': 'Marie', 'id-03': 'Adrien'}\n"
     ]
    }
   ],
   "source": [
    "employes = {}\n",
    "compteur = 1\n",
    "liste = [10, 2329, 5, \"Pierre\", 203, \"Marie\", 867, \"Adrien\"]\n",
    "for i in range(len(liste)):\n",
    "    if isinstance(liste[i], str):\n",
    "        employes['id-0' + str(compteur)] = liste[i]\n",
    "        compteur += 1\n",
    "print(employes)\n"
   ]
  },
  {
   "cell_type": "markdown",
   "metadata": {},
   "source": [
    "#### 052 - Créer un dictionnaire avec les lettres de l'alphabet"
   ]
  },
  {
   "cell_type": "code",
   "execution_count": 24,
   "metadata": {},
   "outputs": [
    {
     "name": "stdout",
     "output_type": "stream",
     "text": [
      "{1: 'a', 2: 'b', 3: 'c', 4: 'd', 5: 'e', 6: 'f', 7: 'g', 8: 'h', 9: 'i', 10: 'j', 11: 'k', 12: 'l', 13: 'm', 14: 'n', 15: 'o', 16: 'p', 17: 'q', 18: 'r', 19: 's', 20: 't', 21: 'u', 22: 'v', 23: 'w', 24: 'x', 25: 'y', 26: 'z'}\n"
     ]
    }
   ],
   "source": [
    "import string\n",
    "alphabet = string.ascii_lowercase\n",
    "alphabet_dic = {}\n",
    "for i in range(len(alphabet)):\n",
    "    alphabet_dic[i + 1] = alphabet[i]\n",
    "print(alphabet_dic)"
   ]
  },
  {
   "cell_type": "markdown",
   "metadata": {},
   "source": [
    "#### 053 - Recréer la fonction len"
   ]
  },
  {
   "cell_type": "code",
   "execution_count": 27,
   "metadata": {},
   "outputs": [
    {
     "name": "stdout",
     "output_type": "stream",
     "text": [
      "7\n"
     ]
    }
   ],
   "source": [
    "def longueur(variable):\n",
    "    compteur = 0\n",
    "    for x in variable:\n",
    "        compteur += 1\n",
    "    return compteur\n",
    "print(longueur(\"bonjour\"))"
   ]
  },
  {
   "cell_type": "markdown",
   "metadata": {},
   "source": [
    "#### 054 - Créer un motif avec des print"
   ]
  },
  {
   "cell_type": "code",
   "execution_count": 9,
   "metadata": {},
   "outputs": [
    {
     "name": "stdout",
     "output_type": "stream",
     "text": [
      "[1, 2, 3, 4, 5, 6, 7, 8, 7, 6, 5, 4, 3, 2, 1]\n",
      "*\n",
      "**\n",
      "***\n",
      "****\n",
      "*****\n",
      "******\n",
      "*******\n",
      "********\n",
      "*******\n",
      "******\n",
      "*****\n",
      "****\n",
      "***\n",
      "**\n",
      "*\n"
     ]
    }
   ],
   "source": [
    "n = 8\n",
    "symbole = \"*\"\n",
    "nombres = list(range(1, n+1)) + list(range(n-1,0, -1))\n",
    "for nombre in nombres:\n",
    "    print(symbole*nombre)\n"
   ]
  },
  {
   "cell_type": "markdown",
   "metadata": {},
   "source": [
    "#### 055 - Créer une pyramide de symboles"
   ]
  },
  {
   "cell_type": "code",
   "execution_count": 10,
   "metadata": {},
   "outputs": [
    {
     "name": "stdout",
     "output_type": "stream",
     "text": [
      "         $ \n",
      "        $ $ \n",
      "       $ $ $ \n",
      "      $ $ $ $ \n",
      "     $ $ $ $ $ \n",
      "    $ $ $ $ $ $ \n",
      "   $ $ $ $ $ $ $ \n",
      "  $ $ $ $ $ $ $ $ \n",
      " $ $ $ $ $ $ $ $ $ \n",
      "$ $ $ $ $ $ $ $ $ $ \n"
     ]
    }
   ],
   "source": [
    "symbole = \"$\"\n",
    " \n",
    "taille = 10\n",
    " \n",
    "for i in range(1, taille + 1):\n",
    "    espaces = \" \" * (taille - i)\n",
    "    print(espaces + (symbole + \" \") * i)"
   ]
  },
  {
   "cell_type": "markdown",
   "metadata": {},
   "source": [
    "#### Write a Python program to triple all numbers in a given list of integers. Use Python map."
   ]
  },
  {
   "cell_type": "code",
   "execution_count": 2,
   "metadata": {},
   "outputs": [
    {
     "name": "stdout",
     "output_type": "stream",
     "text": [
      "[3, 6, 9, 12, 15, 18, 21, 24, 27, 30]\n"
     ]
    }
   ],
   "source": [
    "my_list = [1, 2, 3, 4, 5, 6, 7, 8, 9, 10]\n",
    "\n",
    "my_triple_liste = list(map(lambda x: x * 3, my_list))\n",
    "print(my_triple_liste)"
   ]
  },
  {
   "cell_type": "markdown",
   "metadata": {},
   "source": [
    "#### Write a Python program to add three given lists using Python map and lambda."
   ]
  },
  {
   "cell_type": "code",
   "execution_count": 3,
   "metadata": {},
   "outputs": [
    {
     "name": "stdout",
     "output_type": "stream",
     "text": [
      "[4, 5, 6, 7, 8, 9, 10, 11, 12, 13]\n"
     ]
    }
   ],
   "source": [
    "add_three = list(map(lambda x: x + 3, my_list))\n",
    "print(add_three)"
   ]
  },
  {
   "cell_type": "markdown",
   "metadata": {},
   "source": [
    "#### Write a Python program to listify the list of given strings individually using Python map"
   ]
  },
  {
   "cell_type": "code",
   "execution_count": 5,
   "metadata": {},
   "outputs": [
    {
     "name": "stdout",
     "output_type": "stream",
     "text": [
      "Original list:\n",
      "['Red', 'Blue', 'Black', 'White', 'Pink']\n",
      "\n",
      "After listify the list of strings are:\n",
      "[['R', 'e', 'd'], ['B', 'l', 'u', 'e'], ['B', 'l', 'a', 'c', 'k'], ['W', 'h', 'i', 't', 'e'], ['P', 'i', 'n', 'k']]\n"
     ]
    }
   ],
   "source": [
    "# Create a list named 'color' containing strings representing colors\n",
    "color = ['Red', 'Blue', 'Black', 'White', 'Pink']\n",
    "\t\n",
    "# Print the original list of colors\n",
    "print(\"Original list:\")\n",
    "print(color)\n",
    "\n",
    "# Print a message indicating the operation to be performed\n",
    "print(\"\\nAfter listify the list of strings are:\")\n",
    "\n",
    "# Use the map function to apply the list function to each element of 'color'\n",
    "result = list(map(list, color))\n",
    "\n",
    "# Print the result of the map operation, converting each string to a list of characters\n",
    "print(result)"
   ]
  },
  {
   "cell_type": "markdown",
   "metadata": {},
   "source": [
    "#### Power of a number in bases raises to the corresponding number"
   ]
  },
  {
   "cell_type": "code",
   "execution_count": 7,
   "metadata": {},
   "outputs": [
    {
     "name": "stdout",
     "output_type": "stream",
     "text": [
      "[10, 400, 27000, 2560000, 312500000, 46656000000, 8235430000000, 1677721600000000, 387420489000000000, 100000000000000000000]\n"
     ]
    }
   ],
   "source": [
    "bases_num = [10, 20, 30, 40, 50, 60, 70, 80, 90, 100]\n",
    "index = [1, 2, 3, 4, 5, 6, 7, 8, 9, 10]\n",
    "\n",
    "result = list(map(pow, bases_num, index))\n",
    "print(result)"
   ]
  },
  {
   "cell_type": "markdown",
   "metadata": {},
   "source": [
    "#### Write a Python program to square the elements of a list using the map() function"
   ]
  },
  {
   "cell_type": "code",
   "execution_count": 9,
   "metadata": {},
   "outputs": [
    {
     "name": "stdout",
     "output_type": "stream",
     "text": [
      "[3.1622776601683795, 4.47213595499958, 5.477225575051661, 6.324555320336759, 7.0710678118654755, 7.745966692414834, 8.366600265340756, 8.94427190999916, 9.486832980505138, 10.0]\n"
     ]
    }
   ],
   "source": [
    "import math\n",
    "bases_num = [10, 20, 30, 40, 50, 60, 70, 80, 90, 100]\n",
    "result = list(map(math.sqrt, bases_num))\n",
    "print(result)"
   ]
  },
  {
   "cell_type": "markdown",
   "metadata": {},
   "source": [
    "#### Write a Python program to convert all the characters into uppercase and lowercase and eliminate duplicate letters from a given sequence. Use the map() function."
   ]
  },
  {
   "cell_type": "code",
   "execution_count": 12,
   "metadata": {},
   "outputs": [
    {
     "name": "stdout",
     "output_type": "stream",
     "text": [
      "{('A', 'a'), ('B', 'b'), ('U', 'u'), ('E', 'e'), ('I', 'i'), ('O', 'o'), ('F', 'f')}\n"
     ]
    }
   ],
   "source": [
    "def change_cases(s):\n",
    "    return str(s).upper(), str(s).lower()\n",
    "\n",
    "chrars = {'a', 'b', 'E', 'f', 'a', 'i', 'o', 'U', 'a'}\n",
    "\n",
    "result = map(change_cases, chrars)\n",
    "print(set(result))"
   ]
  },
  {
   "cell_type": "markdown",
   "metadata": {},
   "source": [
    "#### Write a Python program to convert all the characters into uppercase and lowercase and eliminate duplicate letters from a given sequence. Use the map() function."
   ]
  },
  {
   "cell_type": "code",
   "execution_count": 15,
   "metadata": {},
   "outputs": [
    {
     "name": "stdout",
     "output_type": "stream",
     "text": [
      "[(6, 6), (6, 4), (10, -4), (16, 2)]\n"
     ]
    }
   ],
   "source": [
    "def addition_soustraction(x, y):\n",
    "    return x+y, x-y\n",
    "\n",
    "nums1 = [6, 5, 3, 9]\n",
    "nums2 = [0, 1, 7, 7]\n",
    "\n",
    "result = list(map(addition_soustraction, nums1, nums2))\n",
    "print(result)"
   ]
  }
 ],
 "metadata": {
  "kernelspec": {
   "display_name": "Python 3",
   "language": "python",
   "name": "python3"
  },
  "language_info": {
   "codemirror_mode": {
    "name": "ipython",
    "version": 3
   },
   "file_extension": ".py",
   "mimetype": "text/x-python",
   "name": "python",
   "nbconvert_exporter": "python",
   "pygments_lexer": "ipython3",
   "version": "3.11.8"
  }
 },
 "nbformat": 4,
 "nbformat_minor": 2
}
