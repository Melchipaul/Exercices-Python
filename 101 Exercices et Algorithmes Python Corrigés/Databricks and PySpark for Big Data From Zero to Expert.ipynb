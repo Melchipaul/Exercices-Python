{
 "cells": [
  {
   "cell_type": "code",
   "execution_count": 1,
   "metadata": {},
   "outputs": [
    {
     "name": "stdout",
     "output_type": "stream",
     "text": [
      "Defaulting to user installation because normal site-packages is not writeable\n",
      "Requirement already satisfied: pyspark in c:\\users\\melchi\\appdata\\roaming\\python\\python311\\site-packages (3.5.1)\n",
      "Requirement already satisfied: py4j==0.10.9.7 in c:\\users\\melchi\\appdata\\roaming\\python\\python311\\site-packages (from pyspark) (0.10.9.7)\n"
     ]
    },
    {
     "name": "stderr",
     "output_type": "stream",
     "text": [
      "DEPRECATION: Loading egg at c:\\program files\\python311\\lib\\site-packages\\vboxapi-1.0-py3.11.egg is deprecated. pip 24.3 will enforce this behaviour change. A possible replacement is to use pip for package installation.. Discussion can be found at https://github.com/pypa/pip/issues/12330\n"
     ]
    },
    {
     "name": "stdout",
     "output_type": "stream",
     "text": [
      "Defaulting to user installation because normal site-packages is not writeable\n",
      "Requirement already satisfied: findspark in c:\\users\\melchi\\appdata\\roaming\\python\\python311\\site-packages (2.0.1)\n"
     ]
    },
    {
     "name": "stderr",
     "output_type": "stream",
     "text": [
      "DEPRECATION: Loading egg at c:\\program files\\python311\\lib\\site-packages\\vboxapi-1.0-py3.11.egg is deprecated. pip 24.3 will enforce this behaviour change. A possible replacement is to use pip for package installation.. Discussion can be found at https://github.com/pypa/pip/issues/12330\n"
     ]
    },
    {
     "name": "stdout",
     "output_type": "stream",
     "text": [
      "Defaulting to user installation because normal site-packages is not writeable\n",
      "Requirement already satisfied: pandas in c:\\program files\\python311\\lib\\site-packages (2.0.1)\n",
      "Requirement already satisfied: python-dateutil>=2.8.2 in c:\\program files\\python311\\lib\\site-packages (from pandas) (2.8.2)\n",
      "Requirement already satisfied: pytz>=2020.1 in c:\\program files\\python311\\lib\\site-packages (from pandas) (2023.3)\n",
      "Requirement already satisfied: tzdata>=2022.1 in c:\\program files\\python311\\lib\\site-packages (from pandas) (2023.3)\n",
      "Requirement already satisfied: numpy>=1.21.0 in c:\\program files\\python311\\lib\\site-packages (from pandas) (1.24.3)\n",
      "Requirement already satisfied: six>=1.5 in c:\\program files\\python311\\lib\\site-packages (from python-dateutil>=2.8.2->pandas) (1.16.0)\n"
     ]
    },
    {
     "name": "stderr",
     "output_type": "stream",
     "text": [
      "DEPRECATION: Loading egg at c:\\program files\\python311\\lib\\site-packages\\vboxapi-1.0-py3.11.egg is deprecated. pip 24.3 will enforce this behaviour change. A possible replacement is to use pip for package installation.. Discussion can be found at https://github.com/pypa/pip/issues/12330\n"
     ]
    }
   ],
   "source": [
    "!pip install pyspark\n",
    "!pip install findspark\n",
    "!pip install pandas"
   ]
  },
  {
   "cell_type": "code",
   "execution_count": 2,
   "metadata": {},
   "outputs": [],
   "source": [
    "import findspark\n",
    "findspark.init()\n",
    "import pyspark\n",
    "import pandas as pd"
   ]
  },
  {
   "cell_type": "code",
   "execution_count": 3,
   "metadata": {},
   "outputs": [],
   "source": [
    "from pyspark.sql import SparkSession\n",
    "from pyspark.sql.functions import *"
   ]
  },
  {
   "cell_type": "markdown",
   "metadata": {},
   "source": [
    "#### Create the Spark session"
   ]
  },
  {
   "cell_type": "code",
   "execution_count": 4,
   "metadata": {},
   "outputs": [],
   "source": [
    "spark = SparkSession.builder.getOrCreate()"
   ]
  },
  {
   "cell_type": "markdown",
   "metadata": {},
   "source": [
    "#### Create the DataFrame"
   ]
  },
  {
   "cell_type": "code",
   "execution_count": 5,
   "metadata": {},
   "outputs": [],
   "source": [
    "emp = [(1, \"AAA\", 1, 1000),\n",
    "       (2, \"BBB\", 1, 1500),\n",
    "       (3, \"CCC\", 1, 3000),\n",
    "       (4, \"DDD\", 2, 1500),\n",
    "       (5, \"EEE\", 2, 8000),\n",
    "       (6, \"FFF\", 3, 2000),\n",
    "       (7, \"GGG\", 4, 2500)]\n",
    "\n",
    "dept = [(1, \"dept1\", \"dept1_loc\"),\n",
    "        (2, \"dept2\", \"dept2_loc\"),\n",
    "        (3, \"dept3\", \"dept3_loc\"),\n",
    "        (4, \"dept4\", \"dept4_loc\"),\n",
    "        (5, \"dept5\", \"dept5_loc\")]"
   ]
  },
  {
   "cell_type": "code",
   "execution_count": 6,
   "metadata": {},
   "outputs": [],
   "source": [
    "df = spark.createDataFrame(emp, [\"emp_id\", \"emp_name\", \"dept_id\", \"salary\"])\n",
    "df2 = spark.createDataFrame(dept, [\"dept_id\", \"dept_name\", \"dept_loc\"])"
   ]
  },
  {
   "cell_type": "code",
   "execution_count": 7,
   "metadata": {},
   "outputs": [
    {
     "name": "stdout",
     "output_type": "stream",
     "text": [
      "+------+--------+-------+------+\n",
      "|emp_id|emp_name|dept_id|salary|\n",
      "+------+--------+-------+------+\n",
      "|     1|     AAA|      1|  1000|\n",
      "|     2|     BBB|      1|  1500|\n",
      "|     3|     CCC|      1|  3000|\n",
      "|     4|     DDD|      2|  1500|\n",
      "|     5|     EEE|      2|  8000|\n",
      "|     6|     FFF|      3|  2000|\n",
      "|     7|     GGG|      4|  2500|\n",
      "+------+--------+-------+------+\n",
      "\n",
      "+-------+---------+---------+\n",
      "|dept_id|dept_name| dept_loc|\n",
      "+-------+---------+---------+\n",
      "|      1|    dept1|dept1_loc|\n",
      "|      2|    dept2|dept2_loc|\n",
      "|      3|    dept3|dept3_loc|\n",
      "|      4|    dept4|dept4_loc|\n",
      "|      5|    dept5|dept5_loc|\n",
      "+-------+---------+---------+\n",
      "\n"
     ]
    }
   ],
   "source": [
    "df.show()\n",
    "df2.show()"
   ]
  },
  {
   "cell_type": "markdown",
   "metadata": {},
   "source": [
    "#### INNER JOIN"
   ]
  },
  {
   "cell_type": "code",
   "execution_count": 8,
   "metadata": {},
   "outputs": [
    {
     "name": "stdout",
     "output_type": "stream",
     "text": [
      "+------+--------+-------+------+-------+---------+---------+\n",
      "|emp_id|emp_name|dept_id|salary|dept_id|dept_name| dept_loc|\n",
      "+------+--------+-------+------+-------+---------+---------+\n",
      "|     1|     AAA|      1|  1000|      1|    dept1|dept1_loc|\n",
      "|     2|     BBB|      1|  1500|      1|    dept1|dept1_loc|\n",
      "|     3|     CCC|      1|  3000|      1|    dept1|dept1_loc|\n",
      "|     4|     DDD|      2|  1500|      2|    dept2|dept2_loc|\n",
      "|     5|     EEE|      2|  8000|      2|    dept2|dept2_loc|\n",
      "|     6|     FFF|      3|  2000|      3|    dept3|dept3_loc|\n",
      "|     7|     GGG|      4|  2500|      4|    dept4|dept4_loc|\n",
      "+------+--------+-------+------+-------+---------+---------+\n",
      "\n"
     ]
    }
   ],
   "source": [
    "df.join(df2, df.dept_id == df2.dept_id, 'inner').show()"
   ]
  },
  {
   "cell_type": "markdown",
   "metadata": {},
   "source": [
    "#### LEFT JOIN"
   ]
  },
  {
   "cell_type": "code",
   "execution_count": 9,
   "metadata": {},
   "outputs": [
    {
     "name": "stdout",
     "output_type": "stream",
     "text": [
      "+------+--------+-------+------+-------+---------+---------+\n",
      "|emp_id|emp_name|dept_id|salary|dept_id|dept_name| dept_loc|\n",
      "+------+--------+-------+------+-------+---------+---------+\n",
      "|     1|     AAA|      1|  1000|      1|    dept1|dept1_loc|\n",
      "|     2|     BBB|      1|  1500|      1|    dept1|dept1_loc|\n",
      "|     3|     CCC|      1|  3000|      1|    dept1|dept1_loc|\n",
      "|     4|     DDD|      2|  1500|      2|    dept2|dept2_loc|\n",
      "|     5|     EEE|      2|  8000|      2|    dept2|dept2_loc|\n",
      "|     6|     FFF|      3|  2000|      3|    dept3|dept3_loc|\n",
      "|     7|     GGG|      4|  2500|      4|    dept4|dept4_loc|\n",
      "+------+--------+-------+------+-------+---------+---------+\n",
      "\n"
     ]
    }
   ],
   "source": [
    "df.join(df2, df.dept_id == df2.dept_id, 'left').show()"
   ]
  },
  {
   "cell_type": "markdown",
   "metadata": {},
   "source": [
    "#### RIGHT JOIN"
   ]
  },
  {
   "cell_type": "code",
   "execution_count": 10,
   "metadata": {},
   "outputs": [
    {
     "name": "stdout",
     "output_type": "stream",
     "text": [
      "+------+--------+-------+------+-------+---------+---------+\n",
      "|emp_id|emp_name|dept_id|salary|dept_id|dept_name| dept_loc|\n",
      "+------+--------+-------+------+-------+---------+---------+\n",
      "|     3|     CCC|      1|  3000|      1|    dept1|dept1_loc|\n",
      "|     2|     BBB|      1|  1500|      1|    dept1|dept1_loc|\n",
      "|     1|     AAA|      1|  1000|      1|    dept1|dept1_loc|\n",
      "|     5|     EEE|      2|  8000|      2|    dept2|dept2_loc|\n",
      "|     4|     DDD|      2|  1500|      2|    dept2|dept2_loc|\n",
      "|     6|     FFF|      3|  2000|      3|    dept3|dept3_loc|\n",
      "|     7|     GGG|      4|  2500|      4|    dept4|dept4_loc|\n",
      "|  NULL|    NULL|   NULL|  NULL|      5|    dept5|dept5_loc|\n",
      "+------+--------+-------+------+-------+---------+---------+\n",
      "\n"
     ]
    }
   ],
   "source": [
    "df.join(df2, df.dept_id == df2.dept_id, 'right').show()"
   ]
  },
  {
   "cell_type": "markdown",
   "metadata": {},
   "source": [
    "#### FULL JOIN"
   ]
  },
  {
   "cell_type": "code",
   "execution_count": 11,
   "metadata": {},
   "outputs": [
    {
     "name": "stdout",
     "output_type": "stream",
     "text": [
      "+------+--------+-------+------+-------+---------+---------+\n",
      "|emp_id|emp_name|dept_id|salary|dept_id|dept_name| dept_loc|\n",
      "+------+--------+-------+------+-------+---------+---------+\n",
      "|     1|     AAA|      1|  1000|      1|    dept1|dept1_loc|\n",
      "|     2|     BBB|      1|  1500|      1|    dept1|dept1_loc|\n",
      "|     3|     CCC|      1|  3000|      1|    dept1|dept1_loc|\n",
      "|     4|     DDD|      2|  1500|      2|    dept2|dept2_loc|\n",
      "|     5|     EEE|      2|  8000|      2|    dept2|dept2_loc|\n",
      "|     6|     FFF|      3|  2000|      3|    dept3|dept3_loc|\n",
      "|     7|     GGG|      4|  2500|      4|    dept4|dept4_loc|\n",
      "|  NULL|    NULL|   NULL|  NULL|      5|    dept5|dept5_loc|\n",
      "+------+--------+-------+------+-------+---------+---------+\n",
      "\n"
     ]
    }
   ],
   "source": [
    "df.join(df2, df.dept_id == df2.dept_id, 'full').show()"
   ]
  },
  {
   "cell_type": "code",
   "execution_count": 12,
   "metadata": {},
   "outputs": [],
   "source": [
    "df.createOrReplaceTempView(\"emp\")"
   ]
  },
  {
   "cell_type": "code",
   "execution_count": 13,
   "metadata": {},
   "outputs": [
    {
     "name": "stdout",
     "output_type": "stream",
     "text": [
      "+------+--------+-------+------+\n",
      "|emp_id|emp_name|dept_id|salary|\n",
      "+------+--------+-------+------+\n",
      "|     1|     AAA|      1|  1000|\n",
      "|     2|     BBB|      1|  1500|\n",
      "|     3|     CCC|      1|  3000|\n",
      "|     4|     DDD|      2|  1500|\n",
      "|     5|     EEE|      2|  8000|\n",
      "|     6|     FFF|      3|  2000|\n",
      "|     7|     GGG|      4|  2500|\n",
      "+------+--------+-------+------+\n",
      "\n"
     ]
    }
   ],
   "source": [
    "spark.sql(\"select * from emp\").show()"
   ]
  },
  {
   "cell_type": "code",
   "execution_count": 33,
   "metadata": {},
   "outputs": [
    {
     "data": {
      "text/plain": [
       "7"
      ]
     },
     "metadata": {},
     "output_type": "display_data"
    }
   ],
   "source": [
    "display(df.distinct().count())"
   ]
  },
  {
   "cell_type": "markdown",
   "metadata": {},
   "source": [
    "#### Python UDFs"
   ]
  },
  {
   "cell_type": "code",
   "execution_count": 23,
   "metadata": {},
   "outputs": [],
   "source": [
    "def raise_salary(salary):\n",
    "    return int(salary) * 1.10"
   ]
  },
  {
   "cell_type": "code",
   "execution_count": 24,
   "metadata": {},
   "outputs": [],
   "source": [
    "raise_salary_udf = udf(raise_salary)"
   ]
  },
  {
   "cell_type": "code",
   "execution_count": 31,
   "metadata": {},
   "outputs": [
    {
     "data": {
      "text/plain": [
       "DataFrame[raise_salary(salary): string]"
      ]
     },
     "execution_count": 31,
     "metadata": {},
     "output_type": "execute_result"
    }
   ],
   "source": [
    "from pyspark.sql.functions import col\n",
    "df.select(raise_salary_udf(col(\"salary\")))"
   ]
  }
 ],
 "metadata": {
  "kernelspec": {
   "display_name": "Python 3",
   "language": "python",
   "name": "python3"
  },
  "language_info": {
   "codemirror_mode": {
    "name": "ipython",
    "version": 3
   },
   "file_extension": ".py",
   "mimetype": "text/x-python",
   "name": "python",
   "nbconvert_exporter": "python",
   "pygments_lexer": "ipython3",
   "version": "3.11.3"
  }
 },
 "nbformat": 4,
 "nbformat_minor": 2
}
