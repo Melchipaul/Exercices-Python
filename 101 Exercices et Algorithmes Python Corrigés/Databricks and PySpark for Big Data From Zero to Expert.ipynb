{
 "cells": [
  {
   "cell_type": "code",
   "execution_count": 4,
   "metadata": {},
   "outputs": [],
   "source": [
    "import findspark\n",
    "findspark.init()\n",
    "import pyspark\n",
    "import pandas as pd"
   ]
  },
  {
   "cell_type": "code",
   "execution_count": 5,
   "metadata": {},
   "outputs": [],
   "source": [
    "from pyspark.sql import SparkSession\n",
    "from pyspark.sql.functions import *"
   ]
  },
  {
   "cell_type": "markdown",
   "metadata": {},
   "source": [
    "#### Create the Spark session"
   ]
  },
  {
   "cell_type": "code",
   "execution_count": 6,
   "metadata": {},
   "outputs": [],
   "source": [
    "spark = SparkSession.builder.getOrCreate()"
   ]
  },
  {
   "cell_type": "markdown",
   "metadata": {},
   "source": [
    "#### Create the DataFrame"
   ]
  },
  {
   "cell_type": "code",
   "execution_count": 19,
   "metadata": {},
   "outputs": [],
   "source": [
    "emp = [(1, \"AAA\", 1, 1000),\n",
    "       (2, \"BBB\", 1, 1500),\n",
    "       (3, \"CCC\", 1, 3000),\n",
    "       (4, \"DDD\", 2, 1500),\n",
    "       (5, \"EEE\", 2, 8000),\n",
    "       (6, \"FFF\", 3, 2000),\n",
    "       (7, \"GGG\", 4, 2500)]\n",
    "\n",
    "dept = [(1, \"dept1\", \"dept1_loc\"),\n",
    "        (2, \"dept2\", \"dept2_loc\"),\n",
    "        (3, \"dept3\", \"dept3_loc\"),\n",
    "        (4, \"dept4\", \"dept4_loc\"),\n",
    "        (5, \"dept5\", \"dept5_loc\")]"
   ]
  },
  {
   "cell_type": "code",
   "execution_count": 20,
   "metadata": {},
   "outputs": [],
   "source": [
    "df = spark.createDataFrame(emp, [\"emp_id\", \"emp_name\", \"dept_id\", \"salary\"])\n",
    "df2 = spark.createDataFrame(dept, [\"dept_id\", \"dept_name\", \"dept_loc\"])"
   ]
  },
  {
   "cell_type": "code",
   "execution_count": 21,
   "metadata": {},
   "outputs": [
    {
     "name": "stdout",
     "output_type": "stream",
     "text": [
      "+------+--------+-------+------+\n",
      "|emp_id|emp_name|dept_id|salary|\n",
      "+------+--------+-------+------+\n",
      "|     1|     AAA|      1|  1000|\n",
      "|     2|     BBB|      1|  1500|\n",
      "|     3|     CCC|      1|  3000|\n",
      "|     4|     DDD|      2|  1500|\n",
      "|     5|     EEE|      2|  8000|\n",
      "|     6|     FFF|      3|  2000|\n",
      "|     7|     GGG|      4|  2500|\n",
      "+------+--------+-------+------+\n",
      "\n",
      "+-------+---------+---------+\n",
      "|dept_id|dept_name| dept_loc|\n",
      "+-------+---------+---------+\n",
      "|      1|    dept1|dept1_loc|\n",
      "|      2|    dept2|dept2_loc|\n",
      "|      3|    dept3|dept3_loc|\n",
      "|      4|    dept4|dept4_loc|\n",
      "|      5|    dept5|dept5_loc|\n",
      "+-------+---------+---------+\n",
      "\n"
     ]
    }
   ],
   "source": [
    "df.show()\n",
    "df2.show()"
   ]
  },
  {
   "cell_type": "markdown",
   "metadata": {},
   "source": [
    "#### INNER JOIN"
   ]
  },
  {
   "cell_type": "code",
   "execution_count": 23,
   "metadata": {},
   "outputs": [
    {
     "name": "stdout",
     "output_type": "stream",
     "text": [
      "+------+--------+-------+------+-------+---------+---------+\n",
      "|emp_id|emp_name|dept_id|salary|dept_id|dept_name| dept_loc|\n",
      "+------+--------+-------+------+-------+---------+---------+\n",
      "|     1|     AAA|      1|  1000|      1|    dept1|dept1_loc|\n",
      "|     2|     BBB|      1|  1500|      1|    dept1|dept1_loc|\n",
      "|     3|     CCC|      1|  3000|      1|    dept1|dept1_loc|\n",
      "|     4|     DDD|      2|  1500|      2|    dept2|dept2_loc|\n",
      "|     5|     EEE|      2|  8000|      2|    dept2|dept2_loc|\n",
      "|     6|     FFF|      3|  2000|      3|    dept3|dept3_loc|\n",
      "|     7|     GGG|      4|  2500|      4|    dept4|dept4_loc|\n",
      "+------+--------+-------+------+-------+---------+---------+\n",
      "\n"
     ]
    }
   ],
   "source": [
    "df.join(df2, df.dept_id == df2.dept_id, 'inner').show()"
   ]
  },
  {
   "cell_type": "markdown",
   "metadata": {},
   "source": [
    "#### LEFT JOIN"
   ]
  },
  {
   "cell_type": "code",
   "execution_count": 18,
   "metadata": {},
   "outputs": [
    {
     "name": "stdout",
     "output_type": "stream",
     "text": [
      "+------+--------+-------+------+-------+---------+---------+\n",
      "|emp_id|emp_name|dept_id|salary|dept_id|dept_name| dept_loc|\n",
      "+------+--------+-------+------+-------+---------+---------+\n",
      "|     3|     CCC|      1|  3000|      1|    dept1|dept1_loc|\n",
      "|     2|     BBB|      1|  1500|      1|    dept1|dept1_loc|\n",
      "|     1|     AAA|      1|  1000|      1|    dept1|dept1_loc|\n",
      "|     5|     EEE|      2|  8000|      2|    dept2|dept2_loc|\n",
      "|     4|     DDD|      2|  1500|      2|    dept2|dept2_loc|\n",
      "|     6|     FFF|      3|  2000|      3|    dept3|dept3_loc|\n",
      "+------+--------+-------+------+-------+---------+---------+\n",
      "\n"
     ]
    }
   ],
   "source": [
    "df.join(df2, df.dept_id == df2.dept_id, 'left').show()"
   ]
  },
  {
   "cell_type": "markdown",
   "metadata": {},
   "source": [
    "#### RIGHT JOIN"
   ]
  },
  {
   "cell_type": "code",
   "execution_count": 22,
   "metadata": {},
   "outputs": [
    {
     "name": "stdout",
     "output_type": "stream",
     "text": [
      "+------+--------+-------+------+-------+---------+---------+\n",
      "|emp_id|emp_name|dept_id|salary|dept_id|dept_name| dept_loc|\n",
      "+------+--------+-------+------+-------+---------+---------+\n",
      "|     3|     CCC|      1|  3000|      1|    dept1|dept1_loc|\n",
      "|     2|     BBB|      1|  1500|      1|    dept1|dept1_loc|\n",
      "|     1|     AAA|      1|  1000|      1|    dept1|dept1_loc|\n",
      "|     5|     EEE|      2|  8000|      2|    dept2|dept2_loc|\n",
      "|     4|     DDD|      2|  1500|      2|    dept2|dept2_loc|\n",
      "|     6|     FFF|      3|  2000|      3|    dept3|dept3_loc|\n",
      "|     7|     GGG|      4|  2500|      4|    dept4|dept4_loc|\n",
      "|  NULL|    NULL|   NULL|  NULL|      5|    dept5|dept5_loc|\n",
      "+------+--------+-------+------+-------+---------+---------+\n",
      "\n"
     ]
    }
   ],
   "source": [
    "df.join(df2, df.dept_id == df2.dept_id, 'right').show()"
   ]
  },
  {
   "cell_type": "markdown",
   "metadata": {},
   "source": [
    "#### FULL JOIN"
   ]
  },
  {
   "cell_type": "code",
   "execution_count": 26,
   "metadata": {},
   "outputs": [
    {
     "name": "stdout",
     "output_type": "stream",
     "text": [
      "+------+--------+-------+------+-------+---------+---------+\n",
      "|emp_id|emp_name|dept_id|salary|dept_id|dept_name| dept_loc|\n",
      "+------+--------+-------+------+-------+---------+---------+\n",
      "|     1|     AAA|      1|  1000|      1|    dept1|dept1_loc|\n",
      "|     2|     BBB|      1|  1500|      1|    dept1|dept1_loc|\n",
      "|     3|     CCC|      1|  3000|      1|    dept1|dept1_loc|\n",
      "|     4|     DDD|      2|  1500|      2|    dept2|dept2_loc|\n",
      "|     5|     EEE|      2|  8000|      2|    dept2|dept2_loc|\n",
      "|     6|     FFF|      3|  2000|      3|    dept3|dept3_loc|\n",
      "|     7|     GGG|      4|  2500|      4|    dept4|dept4_loc|\n",
      "|  NULL|    NULL|   NULL|  NULL|      5|    dept5|dept5_loc|\n",
      "+------+--------+-------+------+-------+---------+---------+\n",
      "\n"
     ]
    }
   ],
   "source": [
    "df.join(df2, df.dept_id == df2.dept_id, 'full').show()"
   ]
  },
  {
   "cell_type": "code",
   "execution_count": 29,
   "metadata": {},
   "outputs": [],
   "source": [
    "df.createOrReplaceTempView(\"emp\")"
   ]
  },
  {
   "cell_type": "code",
   "execution_count": 32,
   "metadata": {},
   "outputs": [
    {
     "name": "stdout",
     "output_type": "stream",
     "text": [
      "+------+--------+-------+------+\n",
      "|emp_id|emp_name|dept_id|salary|\n",
      "+------+--------+-------+------+\n",
      "|     1|     AAA|      1|  1000|\n",
      "|     2|     BBB|      1|  1500|\n",
      "|     3|     CCC|      1|  3000|\n",
      "|     4|     DDD|      2|  1500|\n",
      "|     5|     EEE|      2|  8000|\n",
      "|     6|     FFF|      3|  2000|\n",
      "|     7|     GGG|      4|  2500|\n",
      "+------+--------+-------+------+\n",
      "\n"
     ]
    }
   ],
   "source": [
    "spark.sql(\"select * from emp\").show()"
   ]
  }
 ],
 "metadata": {
  "kernelspec": {
   "display_name": "Python 3",
   "language": "python",
   "name": "python3"
  },
  "language_info": {
   "codemirror_mode": {
    "name": "ipython",
    "version": 3
   },
   "file_extension": ".py",
   "mimetype": "text/x-python",
   "name": "python",
   "nbconvert_exporter": "python",
   "pygments_lexer": "ipython3",
   "version": "3.11.3"
  }
 },
 "nbformat": 4,
 "nbformat_minor": 2
}
